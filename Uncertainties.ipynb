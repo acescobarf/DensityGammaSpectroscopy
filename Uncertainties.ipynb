{
 "cells": [
  {
   "cell_type": "code",
   "execution_count": 11,
   "metadata": {},
   "outputs": [],
   "source": [
    "import numpy as np\n",
    "from uncertainties import ufloat\n",
    "from uncertainties.umath import *\n",
    "import matplotlib.pyplot as plt"
   ]
  },
  {
   "cell_type": "code",
   "execution_count": 6,
   "metadata": {},
   "outputs": [],
   "source": [
    "Aire22Na=np.loadtxt('Aire_22Na_mtime_05min.dat', unpack=True)\n",
    "Aire137Cs=np.loadtxt('Aire_137Cs_mtime_30min.dat', unpack=True)\n",
    "Arena22Na05=np.loadtxt('Arena_05cm_22Na_mtime_05min.dat',unpack=True)\n",
    "Arena137Cs05=np.loadtxt('Arena_05cm_137Cs_mtime_30min.dat',unpack=True)\n",
    "Arena22Na10=np.loadtxt('Arena_10cm_22Na_mtime_05min.dat',unpack=True)\n",
    "Arena137Cs10=np.loadtxt('Arena_10cm_137Cs_mtime_30min.dat', unpack=True)\n",
    "Parafina22Na08=np.loadtxt('Parafina_08cm_22Na_mtime_05min.dat',unpack=True)\n",
    "Parafina137Cs08=np.loadtxt('Parafina_08cm_137Cs_mtime_30min.dat', unpack=True)\n",
    "Parafina22Na16=np.loadtxt('Parafina_16cm_22Na_mtime_05min.dat',unpack=True)\n",
    "Parafina137Cs16=np.loadtxt('Parafina_16cm_137Cs_mtime_30min.dat',unpack=True)\n",
    "N = range(1, 1025)"
   ]
  },
  {
   "cell_type": "code",
   "execution_count": 9,
   "metadata": {},
   "outputs": [],
   "source": [
    "#Energy Calibration E= a0+a1*N\n",
    "def EnergyCalibration22Na(x):\n",
    "    E2Na=1274.5\n",
    "    A2=np.amax(Aire22Na[600:1000]) #Corresponds to E2Na=1274.5 keV\n",
    "    m2=np.where(Aire22Na==A2)[0]\n",
    "\n",
    "    E1Na=511\n",
    "    A1=np.amax(Aire22Na[200:400]) #Corresponds to E1Na=511 keV\n",
    "    m1=np.where(Aire22Na==A1)[0]\n",
    "    E= E1Na+ ((E1Na-E2Na)/(m2-m1))*m1 + ((E2Na-E1Na)/(m2-m1))*x\n",
    "    return E \n",
    "\n",
    "E22Na=EnergyCalibration22Na(N)"
   ]
  },
  {
   "cell_type": "code",
   "execution_count": 15,
   "metadata": {},
   "outputs": [
    {
     "name": "stdout",
     "output_type": "stream",
     "text": [
      "[55]\n"
     ]
    }
   ],
   "source": [
    "#Energy Calibration E= a0+a1*N\n",
    "def EnergyCalibration137Cs(x):\n",
    "    E2Cs=661.657\n",
    "    A2=np.amax(Aire137Cs[400:500]) #Corresponds to E2Cs=1274.5 keV\n",
    "    m2=np.where(Aire137Cs==A2)[0]\n",
    "\n",
    "    E1Cs=32.0\n",
    "    A1=np.amax(Aire137Cs[0:70]) #Corresponds to E1Cs=511 keV\n",
    "    m1=np.where(Aire137Cs==A1)[0]\n",
    "    print(m1)\n",
    "    E= E1Cs+ ((E1Cs-E2Cs)/(m2-m1))*m1 + ((E2Cs-E1Cs)/(m2-m1))*x\n",
    "    return E \n",
    "\n",
    "E137Cs=EnergyCalibration137Cs(N)"
   ]
  },
  {
   "cell_type": "code",
   "execution_count": 30,
   "metadata": {},
   "outputs": [],
   "source": [
    "def rho(mup, d, Id, I0):\n",
    "    return -1/(mup*ufloat(d, 0.1))*log(ufloat(Id, 1)/ufloat(I0, 1))"
   ]
  },
  {
   "cell_type": "code",
   "execution_count": 22,
   "metadata": {},
   "outputs": [],
   "source": [
    "Na_subpeak1 = np.max(Aire22Na[600:1000])\n",
    "idx_Na_peak1 = np.where(Aire22Na==Na_subpeak1)[0]\n",
    "Na_subpeak2 = np.max(Aire22Na[200:400])\n",
    "idx_Na_peak2 = np.where(Aire22Na==Na_subpeak2)[0]\n",
    "Cs_subpeak = np.max(Aire137Cs[400:500])\n",
    "idx_Cs_peak = np.where(Aire137Cs==Cs_subpeak)[0]"
   ]
  },
  {
   "cell_type": "code",
   "execution_count": 31,
   "metadata": {},
   "outputs": [
    {
     "name": "stdout",
     "output_type": "stream",
     "text": [
      "[ 15390.] 1.546+/-0.031\n",
      "[-0.6694109]\n",
      "[ 9183.] 1.369+/-0.014\n",
      "[-1.1857749]\n"
     ]
    }
   ],
   "source": [
    "## Peak 2\n",
    "# Arena22Na05\n",
    "I0 = Aire22Na[idx_Na_peak2]\n",
    "I = Arena22Na05[idx_Na_peak2]\n",
    "mup = 0.0866\n",
    "d = 5\n",
    "_rho = rho(mup, d, I, I0)\n",
    "print(I, _rho)\n",
    "# Arena22Na10\n",
    "I0 = Aire22Na[idx_Na_peak2]\n",
    "I = Arena22Na10[idx_Na_peak2]\n",
    "mup = 0.0866\n",
    "d = 10\n",
    "_rho = rho(mup, d, I, I0)\n",
    "print(I, _rho)"
   ]
  },
  {
   "cell_type": "code",
   "execution_count": 33,
   "metadata": {},
   "outputs": [
    {
     "name": "stdout",
     "output_type": "stream",
     "text": [
      "[ 2885.] 1.680+/-0.034\n",
      "[ 2045.] 1.450+/-0.015\n"
     ]
    }
   ],
   "source": [
    "## Peak 1\n",
    "# Arena22Na05\n",
    "I0 = Aire22Na[idx_Na_peak1]\n",
    "I = Arena22Na05[idx_Na_peak1]\n",
    "mup = 0.0564\n",
    "d = 5\n",
    "_rho = rho(mup, d, I, I0)\n",
    "print(I, _rho)\n",
    "# Arena22Na10\n",
    "I0 = Aire22Na[idx_Na_peak1]\n",
    "I = Arena22Na10[idx_Na_peak1]\n",
    "mup = 0.0564\n",
    "d = 10\n",
    "_rho = rho(mup, d, I, I0)\n",
    "print(I, _rho)"
   ]
  },
  {
   "cell_type": "code",
   "execution_count": 34,
   "metadata": {},
   "outputs": [
    {
     "name": "stdout",
     "output_type": "stream",
     "text": [
      "[ 3229.] 1.669+/-0.033\n",
      "[ 2075.] 1.407+/-0.014\n"
     ]
    }
   ],
   "source": [
    "# Arena137Cs05\n",
    "I0 = Aire137Cs[idx_Cs_peak]\n",
    "I = Arena137Cs05[idx_Cs_peak]\n",
    "mup = 0.0773\n",
    "d = 5\n",
    "_rho = rho(mup, d, I, I0)\n",
    "print(I, _rho)\n",
    "# Arena137Cs10\n",
    "I0 = Aire137Cs[idx_Cs_peak]\n",
    "I = Arena137Cs10[idx_Cs_peak]\n",
    "mup = 0.0773\n",
    "d = 10\n",
    "_rho = rho(mup, d, I, I0)\n",
    "print(I, _rho)"
   ]
  },
  {
   "cell_type": "code",
   "execution_count": 37,
   "metadata": {},
   "outputs": [
    {
     "name": "stdout",
     "output_type": "stream",
     "text": [
      "[ 15761.] 0.814+/-0.010\n",
      "[ 8579.] 0.791+/-0.005\n"
     ]
    }
   ],
   "source": [
    "## Peak 2\n",
    "# Parafina22Na08\n",
    "I0 = Aire22Na[idx_Na_peak2]\n",
    "I = Parafina22Na08[idx_Na_peak2]\n",
    "mup = 0.0991\n",
    "d = 8\n",
    "_rho = rho(mup, d, I, I0)\n",
    "print(I, _rho)\n",
    "# Parafina22Na16\n",
    "I0 = Aire22Na[idx_Na_peak2]\n",
    "I = Parafina22Na16[idx_Na_peak2]\n",
    "mup = 0.0991\n",
    "d = 16\n",
    "_rho = rho(mup, d, I, I0)\n",
    "print(I, _rho)"
   ]
  },
  {
   "cell_type": "code",
   "execution_count": 38,
   "metadata": {},
   "outputs": [
    {
     "name": "stdout",
     "output_type": "stream",
     "text": [
      "[ 2875.] 0.922+/-0.012\n",
      "[ 1871.] 0.876+/-0.006\n"
     ]
    }
   ],
   "source": [
    "## Peak 1\n",
    "# Parafina22Na08\n",
    "I0 = Aire22Na[idx_Na_peak1]\n",
    "I = Parafina22Na08[idx_Na_peak1]\n",
    "mup = 0.0647\n",
    "d = 8\n",
    "_rho = rho(mup, d, I, I0)\n",
    "print(I, _rho)\n",
    "# Parafina22Na16\n",
    "I0 = Aire22Na[idx_Na_peak1]\n",
    "I = Parafina22Na16[idx_Na_peak1]\n",
    "mup = 0.0647\n",
    "d = 16\n",
    "_rho = rho(mup, d, I, I0)\n",
    "print(I, _rho)"
   ]
  },
  {
   "cell_type": "code",
   "execution_count": 40,
   "metadata": {},
   "outputs": [
    {
     "name": "stdout",
     "output_type": "stream",
     "text": [
      "[ 3460.] 0.814+/-0.010\n",
      "[ 1874.] 0.840+/-0.005\n"
     ]
    }
   ],
   "source": [
    "# Parafina137Cs08\n",
    "I0 = Aire137Cs[idx_Cs_peak]\n",
    "I = Parafina137Cs08[idx_Cs_peak]\n",
    "mup = 0.0885\n",
    "d = 8\n",
    "_rho = rho(mup, d, I, I0)\n",
    "print(I, _rho)\n",
    "# Parafina137Cs16\n",
    "I0 = Aire137Cs[idx_Cs_peak]\n",
    "I = Parafina137Cs16[idx_Cs_peak]\n",
    "mup = 0.0885\n",
    "d = 16\n",
    "_rho = rho(mup, d, I, I0)\n",
    "print(I, _rho)"
   ]
  },
  {
   "cell_type": "code",
   "execution_count": null,
   "metadata": {},
   "outputs": [],
   "source": []
  }
 ],
 "metadata": {
  "kernelspec": {
   "display_name": "Python 3",
   "language": "python",
   "name": "python3"
  },
  "language_info": {
   "codemirror_mode": {
    "name": "ipython",
    "version": 3
   },
   "file_extension": ".py",
   "mimetype": "text/x-python",
   "name": "python",
   "nbconvert_exporter": "python",
   "pygments_lexer": "ipython3",
   "version": "3.5.4"
  }
 },
 "nbformat": 4,
 "nbformat_minor": 2
}
