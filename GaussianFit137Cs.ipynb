{
 "cells": [
  {
   "cell_type": "code",
   "execution_count": 1,
   "metadata": {},
   "outputs": [],
   "source": [
    "import numpy as np\n",
    "import matplotlib.pyplot as plt\n",
    "import pandas as pd\n",
    "from scipy.optimize import curve_fit"
   ]
  },
  {
   "cell_type": "code",
   "execution_count": null,
   "metadata": {},
   "outputs": [],
   "source": [
    "def ExpGaussian(x,a0,a1,x0,A,sigma, mu, B, sigma2, mu2):\n",
    "    f= a0+a1*(x-x0)+A*np.exp(-0.5*((mu-x)/sigma)**2)+B*np.exp(-0.5*((mu2-x)/sigma2)**2)\n",
    "    return f \n",
    "def Gaussian(x, A,sigma, mu):\n",
    "    g=A*np.exp(-0.5*((mu-x)/sigma)**2)\n",
    "    return g"
   ]
  }
 ],
 "metadata": {
  "kernelspec": {
   "display_name": "Python 2",
   "language": "python",
   "name": "python2"
  },
  "language_info": {
   "codemirror_mode": {
    "name": "ipython",
    "version": 2
   },
   "file_extension": ".py",
   "mimetype": "text/x-python",
   "name": "python",
   "nbconvert_exporter": "python",
   "pygments_lexer": "ipython2",
   "version": "2.7.12"
  }
 },
 "nbformat": 4,
 "nbformat_minor": 2
}
